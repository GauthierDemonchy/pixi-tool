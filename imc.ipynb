{
 "cells": [
  {
   "cell_type": "code",
   "execution_count": null,
   "id": "initial_id",
   "metadata": {
    "collapsed": true
   },
   "outputs": [],
   "source": [
    "import ipywidgets as widgets\n",
    "from IPython.display import display, HTML\n",
    "\n",
    "# Fonction de calcul de l'IMC\n",
    "def calculer_imc(b):\n",
    "    poids = float(input_poids.value)\n",
    "    taille = float(input_taille.value) / 100  # Convertir en mètres\n",
    "    \n",
    "    if taille <= 0 or poids <= 0:\n",
    "        resultat_html.value = \"<p style='color:red;'>Veuillez entrer des valeurs valides.</p>\"\n",
    "        return\n",
    "    \n",
    "    imc = poids / (taille ** 2)\n",
    "\n",
    "    # Déterminer la catégorie IMC\n",
    "    if imc < 18.5:\n",
    "        categorie = \"Maigreur\"\n",
    "        color = \"blue\"\n",
    "    elif 18.5 <= imc < 25:\n",
    "        categorie = \"Corpulence normale\"\n",
    "        color = \"green\"\n",
    "    elif 25 <= imc < 30:\n",
    "        categorie = \"Surpoids\"\n",
    "        color = \"orange\"\n",
    "    else:\n",
    "        categorie = \"Obésité\"\n",
    "        color = \"red\"\n",
    "\n",
    "    resultat_html.value = f\"<p style='color:{color}; font-size:16px;'>Votre IMC est {imc:.2f} - Catégorie : {categorie}</p>\"\n",
    "\n",
    "# Création des widgets d'entrée\n",
    "input_poids = widgets.FloatText(description=\"Poids (kg):\", value=70)\n",
    "input_taille = widgets.FloatText(description=\"Taille (cm):\", value=175)\n",
    "bouton_calcul = widgets.Button(description=\"Calculer l'IMC\")\n",
    "resultat_html = widgets.HTML(\"\")\n",
    "\n",
    "# Associer la fonction au bouton\n",
    "bouton_calcul.on_click(calculer_imc)\n",
    "\n",
    "# Affichage des widgets\n",
    "display(input_poids, input_taille, bouton_calcul, resultat_html)\n"
   ]
  }
 ],
 "metadata": {
  "kernelspec": {
   "display_name": "Python 3",
   "language": "python",
   "name": "python3"
  },
  "language_info": {
   "codemirror_mode": {
    "name": "ipython",
    "version": 2
   },
   "file_extension": ".py",
   "mimetype": "text/x-python",
   "name": "python",
   "nbconvert_exporter": "python",
   "pygments_lexer": "ipython2",
   "version": "2.7.6"
  }
 },
 "nbformat": 4,
 "nbformat_minor": 5
}
